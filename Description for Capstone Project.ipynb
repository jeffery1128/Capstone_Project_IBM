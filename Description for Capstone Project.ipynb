{
 "cells": [
  {
   "cell_type": "markdown",
   "metadata": {},
   "source": [
    "<h1>Capstone Project - The Battle of the Neighborhoods</h1><br>\n",
    "<h2>Applied Data Science Capstone by IBM/Coursera</h2>"
   ]
  },
  {
   "cell_type": "markdown",
   "metadata": {},
   "source": [
    "## Table of contents\n",
    "* [Introduction: Business Problem](#introduction)\n",
    "* [Data](#data)\n",
    "* [Methodology](#methodology)\n",
    "* [Analysis](#analysis)\n",
    "* [Results and Discussion](#results)\n",
    "* [Conclusion](#conclusion)"
   ]
  },
  {
   "cell_type": "markdown",
   "metadata": {},
   "source": [
    "## Introduction: Business Problem <a name=\"introduction\"></a>"
   ]
  },
  {
   "cell_type": "markdown",
   "metadata": {},
   "source": [
    "Boston has long been one of the most prosperous cities in the world. Most of the real estate developers would like to take the opportunity in Boston. \n",
    "\n",
    "Assuming I am one of the data scientists in an apartment development company - Equity Residential. The company has got a <b>huge success on a residential project in downtown Boston</b>, and they are looking for a <b>new district to develop new residential project</b>. \n",
    "\n",
    "The following are some requirements for the new district.\n",
    "* New district needs to be safe.\n",
    "* New district needs to have similar venues with downtown Boston.\n",
    "\n",
    "The aim of this project is to <b>find a potential district which is safer than other districts</b> and <b>has similar venues with Downtown Boston</b>. The target audience of this project will be all <b>the residential developers</b> and <b>the residents who are finding a house to buy</b>.\n",
    "\n"
   ]
  },
  {
   "cell_type": "markdown",
   "metadata": {},
   "source": [
    "## Data <a name=\"data\"></a>"
   ]
  },
  {
   "cell_type": "markdown",
   "metadata": {},
   "source": [
    "In order to find the safer district in Boston, crime record in Boston will be used for analysis.  \n",
    "\n",
    "* Crimes in Boston : \n",
    "https://data.boston.gov/dataset/crime-incident-reports-august-2015-to-date-source-new-system\n",
    "\n",
    "Therefore, district code in the dataset need to be converted to district name. Web scrapping will be used to get the corrlated name.\n",
    "\n",
    "* District Codes : \n",
    "https://www.boston.gov/departments/police\n",
    "\n",
    "Foursquare API will be used to find the nearby venues on different districts.\n",
    "\n",
    "* Foursquare API Docs : \n",
    "https://developer.foursquare.com/docs/"
   ]
  },
  {
   "cell_type": "markdown",
   "metadata": {},
   "source": [
    "* Data description on Crime record in Boston\n",
    "\n",
    "| Column Name | Data Type | Description |\n",
    "| --- | --- | --- |\n",
    "| INCIDENT_NUMBER | String | Internal BPD report number |\n",
    "| offense_code | String | Numerical code of offense description |\n",
    "| Offense_Code_Group_Description | String | Internal categorization of offense_description |\n",
    "| Offense_Description | String | Primary descriptor of incident |\n",
    "| district | String | What district the crime was reported in |\n",
    "| reporting_area | String | RA number associated with the where the crime was reported from |\n",
    "| shooting | String | Indicated a shooting took place |\n",
    "| occurred_on | Datetime | Earliest date and time the incident could have taken place |\n",
    "| UCR_Part | String | Universal Crime Reporting Part number (1,2, 3) |\n",
    "| Street | String | Street name the incident took place |\n",
    "| Location | String | Latitude and longtitude of the Street |"
   ]
  },
  {
   "cell_type": "code",
   "execution_count": null,
   "metadata": {},
   "outputs": [],
   "source": []
  }
 ],
 "metadata": {
  "kernelspec": {
   "display_name": "Python 3",
   "language": "python",
   "name": "python3"
  },
  "language_info": {
   "codemirror_mode": {
    "name": "ipython",
    "version": 3
   },
   "file_extension": ".py",
   "mimetype": "text/x-python",
   "name": "python",
   "nbconvert_exporter": "python",
   "pygments_lexer": "ipython3",
   "version": "3.7.4"
  }
 },
 "nbformat": 4,
 "nbformat_minor": 5
}
