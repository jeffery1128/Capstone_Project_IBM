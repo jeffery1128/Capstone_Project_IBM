{
 "cells": [
  {
   "cell_type": "markdown",
   "metadata": {},
   "source": [
    "1. Import necessary library\n",
    "2. Data collecting\n",
    "    * District code collection\n",
    "    * Combine 5 years csv data to one dataframe\n",
    "3. Data Cleansing\n",
    "4. Data Analysis via data visualization\n",
    "5. Findings on data visualization\n",
    "6. Getting venue data via Foursquare API\n",
    "7. K-Mean clusting modelling on different district"
   ]
  },
  {
   "cell_type": "markdown",
   "metadata": {},
   "source": [
    "# Import necessary library"
   ]
  },
  {
   "cell_type": "code",
   "execution_count": 26,
   "metadata": {
    "scrolled": true
   },
   "outputs": [
    {
     "name": "stdout",
     "output_type": "stream",
     "text": [
      "Requirement already satisfied: geocoder in c:\\users\\chun ho tse\\anaconda3\\lib\\site-packages (1.38.1)\n",
      "Requirement already satisfied: six in c:\\users\\chun ho tse\\anaconda3\\lib\\site-packages (from geocoder) (1.12.0)\n",
      "Requirement already satisfied: ratelim in c:\\users\\chun ho tse\\anaconda3\\lib\\site-packages (from geocoder) (0.1.6)\n",
      "Requirement already satisfied: requests in c:\\users\\chun ho tse\\appdata\\roaming\\python\\python37\\site-packages (from geocoder) (2.23.0)\n",
      "Requirement already satisfied: click in c:\\users\\chun ho tse\\anaconda3\\lib\\site-packages (from geocoder) (7.0)\n",
      "Requirement already satisfied: future in c:\\users\\chun ho tse\\anaconda3\\lib\\site-packages (from geocoder) (0.17.1)\n",
      "Requirement already satisfied: decorator in c:\\users\\chun ho tse\\anaconda3\\lib\\site-packages (from ratelim->geocoder) (4.4.0)\n",
      "Requirement already satisfied: certifi>=2017.4.17 in c:\\users\\chun ho tse\\appdata\\roaming\\python\\python37\\site-packages (from requests->geocoder) (2019.11.28)\n",
      "Requirement already satisfied: chardet<4,>=3.0.2 in c:\\users\\chun ho tse\\appdata\\roaming\\python\\python37\\site-packages (from requests->geocoder) (3.0.4)\n",
      "Requirement already satisfied: urllib3!=1.25.0,!=1.25.1,<1.26,>=1.21.1 in c:\\users\\chun ho tse\\anaconda3\\lib\\site-packages (from requests->geocoder) (1.24.2)\n",
      "Requirement already satisfied: idna<3,>=2.5 in c:\\users\\chun ho tse\\appdata\\roaming\\python\\python37\\site-packages (from requests->geocoder) (2.9)\n",
      "Requirement already satisfied: folium in c:\\python39\\lib\\site-packages (0.12.1)\n",
      "Requirement already satisfied: jinja2>=2.9 in c:\\python39\\lib\\site-packages (from folium) (3.0.1)\n",
      "Requirement already satisfied: branca>=0.3.0 in c:\\python39\\lib\\site-packages (from folium) (0.4.2)\n",
      "Requirement already satisfied: requests in c:\\python39\\lib\\site-packages (from folium) (2.26.0)\n",
      "Requirement already satisfied: numpy in c:\\python39\\lib\\site-packages (from folium) (1.21.1)\n",
      "Requirement already satisfied: MarkupSafe>=2.0 in c:\\python39\\lib\\site-packages (from jinja2>=2.9->folium) (2.0.1)\n",
      "Requirement already satisfied: idna<4,>=2.5 in c:\\python39\\lib\\site-packages (from requests->folium) (3.2)\n",
      "Requirement already satisfied: charset-normalizer~=2.0.0 in c:\\python39\\lib\\site-packages (from requests->folium) (2.0.4)\n",
      "Requirement already satisfied: certifi>=2017.4.17 in c:\\python39\\lib\\site-packages (from requests->folium) (2021.5.30)\n",
      "Requirement already satisfied: urllib3<1.27,>=1.21.1 in c:\\python39\\lib\\site-packages (from requests->folium) (1.26.6)\n"
     ]
    },
    {
     "name": "stderr",
     "output_type": "stream",
     "text": [
      "WARNING: You are using pip version 21.1.3; however, version 21.2.2 is available.\n",
      "You should consider upgrading via the 'c:\\python39\\python.exe -m pip install --upgrade pip' command.\n"
     ]
    },
    {
     "name": "stdout",
     "output_type": "stream",
     "text": [
      "Requirement already satisfied: beautifulsoup4 in c:\\python39\\lib\\site-packages (4.9.3)\n",
      "Requirement already satisfied: soupsieve>1.2 in c:\\python39\\lib\\site-packages (from beautifulsoup4) (2.2.1)\n"
     ]
    },
    {
     "name": "stderr",
     "output_type": "stream",
     "text": [
      "WARNING: You are using pip version 21.1.3; however, version 21.2.2 is available.\n",
      "You should consider upgrading via the 'c:\\python39\\python.exe -m pip install --upgrade pip' command.\n"
     ]
    },
    {
     "name": "stdout",
     "output_type": "stream",
     "text": [
      "Requirement already satisfied: seaborn in c:\\python39\\lib\\site-packages (0.11.1)\n",
      "Requirement already satisfied: numpy>=1.15 in c:\\python39\\lib\\site-packages (from seaborn) (1.21.1)\n",
      "Requirement already satisfied: pandas>=0.23 in c:\\python39\\lib\\site-packages (from seaborn) (1.3.1)\n",
      "Requirement already satisfied: matplotlib>=2.2 in c:\\python39\\lib\\site-packages (from seaborn) (3.4.2)\n",
      "Requirement already satisfied: scipy>=1.0 in c:\\python39\\lib\\site-packages (from seaborn) (1.7.1)\n",
      "Requirement already satisfied: pyparsing>=2.2.1 in c:\\python39\\lib\\site-packages (from matplotlib>=2.2->seaborn) (2.4.7)\n",
      "Requirement already satisfied: pillow>=6.2.0 in c:\\python39\\lib\\site-packages (from matplotlib>=2.2->seaborn) (8.3.1)\n",
      "Requirement already satisfied: cycler>=0.10 in c:\\python39\\lib\\site-packages (from matplotlib>=2.2->seaborn) (0.10.0)\n",
      "Requirement already satisfied: kiwisolver>=1.0.1 in c:\\python39\\lib\\site-packages (from matplotlib>=2.2->seaborn) (1.3.1)\n",
      "Requirement already satisfied: python-dateutil>=2.7 in c:\\python39\\lib\\site-packages (from matplotlib>=2.2->seaborn) (2.8.2)\n",
      "Requirement already satisfied: six in c:\\python39\\lib\\site-packages (from cycler>=0.10->matplotlib>=2.2->seaborn) (1.16.0)\n",
      "Requirement already satisfied: pytz>=2017.3 in c:\\python39\\lib\\site-packages (from pandas>=0.23->seaborn) (2021.1)\n"
     ]
    },
    {
     "name": "stderr",
     "output_type": "stream",
     "text": [
      "WARNING: You are using pip version 21.1.3; however, version 21.2.2 is available.\n",
      "You should consider upgrading via the 'c:\\python39\\python.exe -m pip install --upgrade pip' command.\n"
     ]
    },
    {
     "name": "stdout",
     "output_type": "stream",
     "text": [
      "Requirement already satisfied: missingno in c:\\users\\chun ho tse\\anaconda3\\lib\\site-packages (0.5.0)\n",
      "Requirement already satisfied: numpy in c:\\users\\chun ho tse\\anaconda3\\lib\\site-packages (from missingno) (1.16.5)\n",
      "Requirement already satisfied: seaborn in c:\\users\\chun ho tse\\anaconda3\\lib\\site-packages (from missingno) (0.9.0)\n",
      "Requirement already satisfied: matplotlib in c:\\users\\chun ho tse\\anaconda3\\lib\\site-packages (from missingno) (3.1.1)\n",
      "Requirement already satisfied: scipy in c:\\users\\chun ho tse\\anaconda3\\lib\\site-packages (from missingno) (1.3.1)\n",
      "Requirement already satisfied: pandas>=0.15.2 in c:\\users\\chun ho tse\\anaconda3\\lib\\site-packages (from seaborn->missingno) (0.25.1)\n",
      "Requirement already satisfied: cycler>=0.10 in c:\\users\\chun ho tse\\anaconda3\\lib\\site-packages (from matplotlib->missingno) (0.10.0)\n",
      "Requirement already satisfied: kiwisolver>=1.0.1 in c:\\users\\chun ho tse\\anaconda3\\lib\\site-packages (from matplotlib->missingno) (1.1.0)\n",
      "Requirement already satisfied: pyparsing!=2.0.4,!=2.1.2,!=2.1.6,>=2.0.1 in c:\\users\\chun ho tse\\anaconda3\\lib\\site-packages (from matplotlib->missingno) (2.4.2)\n",
      "Requirement already satisfied: python-dateutil>=2.1 in c:\\users\\chun ho tse\\anaconda3\\lib\\site-packages (from matplotlib->missingno) (2.8.0)\n",
      "Requirement already satisfied: pytz>=2017.2 in c:\\users\\chun ho tse\\anaconda3\\lib\\site-packages (from pandas>=0.15.2->seaborn->missingno) (2019.3)\n",
      "Requirement already satisfied: six in c:\\users\\chun ho tse\\anaconda3\\lib\\site-packages (from cycler>=0.10->matplotlib->missingno) (1.12.0)\n",
      "Requirement already satisfied: setuptools in c:\\users\\chun ho tse\\anaconda3\\lib\\site-packages (from kiwisolver>=1.0.1->matplotlib->missingno) (41.4.0)\n"
     ]
    }
   ],
   "source": [
    "import pandas as pd\n",
    "import requests\n",
    "!pip install geocoder\n",
    "import geocoder\n",
    "!pip3 install folium\n",
    "import folium\n",
    "!pip3 install beautifulsoup4\n",
    "from bs4 import BeautifulSoup\n",
    "from matplotlib import pyplot as plt\n",
    "!pip3 install seaborn \n",
    "import seaborn as sns\n",
    "!pip install missingno\n",
    "import missingno as msno\n",
    "import numpy as np"
   ]
  },
  {
   "cell_type": "markdown",
   "metadata": {},
   "source": [
    "## Import Data"
   ]
  },
  {
   "cell_type": "code",
   "execution_count": 27,
   "metadata": {},
   "outputs": [],
   "source": [
    "data_2015 = pd.read_csv('./data/crime-incident-reports-2015.csv')\n",
    "data_2016 = pd.read_csv('./data/crime-incident-reports-2016.csv')\n",
    "data_2017 = pd.read_csv('./data/crime-incident-reports-2017.csv')\n",
    "data_2018 = pd.read_csv('./data/crime-incident-reports-2018.csv')\n",
    "district = pd.read_csv('./data/district.csv')"
   ]
  },
  {
   "cell_type": "markdown",
   "metadata": {},
   "source": [
    "## Checking their shape and total row count"
   ]
  },
  {
   "cell_type": "code",
   "execution_count": 28,
   "metadata": {},
   "outputs": [
    {
     "name": "stdout",
     "output_type": "stream",
     "text": [
      "2015:  (53597, 17)\n",
      "2016:  (99430, 17)\n",
      "2017:  (101338, 17)\n",
      "2018:  (98888, 17)\n",
      "353253\n"
     ]
    }
   ],
   "source": [
    "print('2015: ',data_2015.shape)\n",
    "print('2016: ',data_2016.shape)\n",
    "print('2017: ',data_2017.shape)\n",
    "print('2018: ',data_2018.shape)\n",
    "total_row = data_2015.shape[0] + data_2016.shape[0] + data_2017.shape[0] + data_2018.shape[0] \n",
    "print(total_row)"
   ]
  },
  {
   "cell_type": "markdown",
   "metadata": {},
   "source": [
    "## Concat 4 years data into one dataframe"
   ]
  },
  {
   "cell_type": "code",
   "execution_count": 29,
   "metadata": {},
   "outputs": [
    {
     "data": {
      "text/plain": [
       "(353253, 17)"
      ]
     },
     "execution_count": 29,
     "metadata": {},
     "output_type": "execute_result"
    }
   ],
   "source": [
    "data = pd.concat([data_2015,data_2016,data_2017,data_2018])\n",
    "data.shape"
   ]
  },
  {
   "cell_type": "code",
   "execution_count": 30,
   "metadata": {},
   "outputs": [
    {
     "data": {
      "text/html": [
       "<div>\n",
       "<style scoped>\n",
       "    .dataframe tbody tr th:only-of-type {\n",
       "        vertical-align: middle;\n",
       "    }\n",
       "\n",
       "    .dataframe tbody tr th {\n",
       "        vertical-align: top;\n",
       "    }\n",
       "\n",
       "    .dataframe thead th {\n",
       "        text-align: right;\n",
       "    }\n",
       "</style>\n",
       "<table border=\"1\" class=\"dataframe\">\n",
       "  <thead>\n",
       "    <tr style=\"text-align: right;\">\n",
       "      <th></th>\n",
       "      <th>INCIDENT_NUMBER</th>\n",
       "      <th>OFFENSE_CODE</th>\n",
       "      <th>OFFENSE_CODE_GROUP</th>\n",
       "      <th>OFFENSE_DESCRIPTION</th>\n",
       "      <th>DISTRICT</th>\n",
       "      <th>REPORTING_AREA</th>\n",
       "      <th>SHOOTING</th>\n",
       "      <th>OCCURRED_ON_DATE</th>\n",
       "      <th>YEAR</th>\n",
       "      <th>MONTH</th>\n",
       "      <th>DAY_OF_WEEK</th>\n",
       "      <th>HOUR</th>\n",
       "      <th>UCR_PART</th>\n",
       "      <th>STREET</th>\n",
       "      <th>Lat</th>\n",
       "      <th>Long</th>\n",
       "      <th>Location</th>\n",
       "    </tr>\n",
       "  </thead>\n",
       "  <tbody>\n",
       "    <tr>\n",
       "      <td>0</td>\n",
       "      <td>I192068249</td>\n",
       "      <td>2647</td>\n",
       "      <td>Other</td>\n",
       "      <td>THREATS TO DO BODILY HARM</td>\n",
       "      <td>B2</td>\n",
       "      <td>280</td>\n",
       "      <td>NaN</td>\n",
       "      <td>2015-08-28 10:20:00</td>\n",
       "      <td>2015</td>\n",
       "      <td>8</td>\n",
       "      <td>Friday</td>\n",
       "      <td>10</td>\n",
       "      <td>Part Two</td>\n",
       "      <td>WASHINGTON ST</td>\n",
       "      <td>42.330119</td>\n",
       "      <td>-71.084251</td>\n",
       "      <td>(42.33011862, -71.08425106)</td>\n",
       "    </tr>\n",
       "    <tr>\n",
       "      <td>1</td>\n",
       "      <td>I192061894</td>\n",
       "      <td>1106</td>\n",
       "      <td>Confidence Games</td>\n",
       "      <td>FRAUD - CREDIT CARD / ATM FRAUD</td>\n",
       "      <td>C11</td>\n",
       "      <td>356</td>\n",
       "      <td>NaN</td>\n",
       "      <td>2015-08-20 00:00:00</td>\n",
       "      <td>2015</td>\n",
       "      <td>8</td>\n",
       "      <td>Thursday</td>\n",
       "      <td>0</td>\n",
       "      <td>Part Two</td>\n",
       "      <td>CHARLES ST</td>\n",
       "      <td>42.300605</td>\n",
       "      <td>-71.061268</td>\n",
       "      <td>(42.30060543, -71.06126785)</td>\n",
       "    </tr>\n",
       "    <tr>\n",
       "      <td>2</td>\n",
       "      <td>I192038828</td>\n",
       "      <td>1107</td>\n",
       "      <td>Fraud</td>\n",
       "      <td>FRAUD - IMPERSONATION</td>\n",
       "      <td>A1</td>\n",
       "      <td>172</td>\n",
       "      <td>NaN</td>\n",
       "      <td>2015-11-02 12:24:00</td>\n",
       "      <td>2015</td>\n",
       "      <td>11</td>\n",
       "      <td>Monday</td>\n",
       "      <td>12</td>\n",
       "      <td>Part Two</td>\n",
       "      <td>ALBANY ST</td>\n",
       "      <td>42.334288</td>\n",
       "      <td>-71.072395</td>\n",
       "      <td>(42.33428841, -71.07239518)</td>\n",
       "    </tr>\n",
       "    <tr>\n",
       "      <td>3</td>\n",
       "      <td>I192008877</td>\n",
       "      <td>1107</td>\n",
       "      <td>Fraud</td>\n",
       "      <td>FRAUD - IMPERSONATION</td>\n",
       "      <td>E18</td>\n",
       "      <td>525</td>\n",
       "      <td>NaN</td>\n",
       "      <td>2015-07-31 10:00:00</td>\n",
       "      <td>2015</td>\n",
       "      <td>7</td>\n",
       "      <td>Friday</td>\n",
       "      <td>10</td>\n",
       "      <td>Part Two</td>\n",
       "      <td>WINGATE RD</td>\n",
       "      <td>42.237009</td>\n",
       "      <td>-71.129566</td>\n",
       "      <td>(42.23700950, -71.12956606)</td>\n",
       "    </tr>\n",
       "    <tr>\n",
       "      <td>4</td>\n",
       "      <td>I182090828</td>\n",
       "      <td>1102</td>\n",
       "      <td>Fraud</td>\n",
       "      <td>FRAUD - FALSE PRETENSE / SCHEME</td>\n",
       "      <td>D4</td>\n",
       "      <td>159</td>\n",
       "      <td>NaN</td>\n",
       "      <td>2015-12-01 12:00:00</td>\n",
       "      <td>2015</td>\n",
       "      <td>12</td>\n",
       "      <td>Tuesday</td>\n",
       "      <td>12</td>\n",
       "      <td>Part Two</td>\n",
       "      <td>UPTON ST</td>\n",
       "      <td>42.342432</td>\n",
       "      <td>-71.072258</td>\n",
       "      <td>(42.34243222, -71.07225766)</td>\n",
       "    </tr>\n",
       "  </tbody>\n",
       "</table>\n",
       "</div>"
      ],
      "text/plain": [
       "  INCIDENT_NUMBER  OFFENSE_CODE OFFENSE_CODE_GROUP  \\\n",
       "0      I192068249          2647              Other   \n",
       "1      I192061894          1106   Confidence Games   \n",
       "2      I192038828          1107              Fraud   \n",
       "3      I192008877          1107              Fraud   \n",
       "4      I182090828          1102              Fraud   \n",
       "\n",
       "               OFFENSE_DESCRIPTION DISTRICT REPORTING_AREA SHOOTING  \\\n",
       "0        THREATS TO DO BODILY HARM       B2            280      NaN   \n",
       "1  FRAUD - CREDIT CARD / ATM FRAUD      C11            356      NaN   \n",
       "2            FRAUD - IMPERSONATION       A1            172      NaN   \n",
       "3            FRAUD - IMPERSONATION      E18            525      NaN   \n",
       "4  FRAUD - FALSE PRETENSE / SCHEME       D4            159      NaN   \n",
       "\n",
       "      OCCURRED_ON_DATE  YEAR  MONTH DAY_OF_WEEK  HOUR  UCR_PART  \\\n",
       "0  2015-08-28 10:20:00  2015      8      Friday    10  Part Two   \n",
       "1  2015-08-20 00:00:00  2015      8    Thursday     0  Part Two   \n",
       "2  2015-11-02 12:24:00  2015     11      Monday    12  Part Two   \n",
       "3  2015-07-31 10:00:00  2015      7      Friday    10  Part Two   \n",
       "4  2015-12-01 12:00:00  2015     12     Tuesday    12  Part Two   \n",
       "\n",
       "          STREET        Lat       Long                     Location  \n",
       "0  WASHINGTON ST  42.330119 -71.084251  (42.33011862, -71.08425106)  \n",
       "1     CHARLES ST  42.300605 -71.061268  (42.30060543, -71.06126785)  \n",
       "2      ALBANY ST  42.334288 -71.072395  (42.33428841, -71.07239518)  \n",
       "3     WINGATE RD  42.237009 -71.129566  (42.23700950, -71.12956606)  \n",
       "4       UPTON ST  42.342432 -71.072258  (42.34243222, -71.07225766)  "
      ]
     },
     "execution_count": 30,
     "metadata": {},
     "output_type": "execute_result"
    }
   ],
   "source": [
    "data.head(5)"
   ]
  },
  {
   "cell_type": "markdown",
   "metadata": {},
   "source": [
    "## Setting district to dictionary format"
   ]
  },
  {
   "cell_type": "code",
   "execution_count": 31,
   "metadata": {},
   "outputs": [],
   "source": [
    "district = district.set_index(\"DISTRICT\")\n",
    "#district.head()"
   ]
  },
  {
   "cell_type": "code",
   "execution_count": 32,
   "metadata": {},
   "outputs": [
    {
     "data": {
      "text/plain": [
       "{'A1': 'DOWNTOWN',\n",
       " 'A15': 'CHARLESTOWN',\n",
       " 'A7': 'EAST BOSTON',\n",
       " 'B2': 'BOXBURY',\n",
       " 'B3': 'MATTAPAN',\n",
       " 'C6': 'SOUTH BOSTON',\n",
       " 'C11': 'DORCHESTER',\n",
       " 'D4': 'SOUTH END',\n",
       " 'D14': 'BRIGHTON',\n",
       " 'E5': 'WEST BOXBURY',\n",
       " 'E13': 'JAMAICA PLAIN',\n",
       " 'E18': 'HYDE PARK'}"
      ]
     },
     "execution_count": 32,
     "metadata": {},
     "output_type": "execute_result"
    }
   ],
   "source": [
    "dict_district = district.to_dict()\n",
    "dict_district = dict_district['DISTRICT_NAME']\n",
    "dict_district"
   ]
  },
  {
   "cell_type": "markdown",
   "metadata": {},
   "source": [
    "## Dropping rows if district is nan or external"
   ]
  },
  {
   "cell_type": "code",
   "execution_count": 33,
   "metadata": {},
   "outputs": [
    {
     "data": {
      "text/plain": [
       "(351426, 17)"
      ]
     },
     "execution_count": 33,
     "metadata": {},
     "output_type": "execute_result"
    }
   ],
   "source": [
    "data = data.drop(data[data.DISTRICT=='External'].index)\n",
    "data = data[data.DISTRICT.notna()]\n",
    "data.shape"
   ]
  },
  {
   "cell_type": "code",
   "execution_count": 35,
   "metadata": {},
   "outputs": [
    {
     "data": {
      "text/plain": [
       "array(['B2', 'C11', 'A1', 'E18', 'D4', 'B3', 'C6', 'D14', 'A7', 'E5',\n",
       "       'E13', 'A15'], dtype=object)"
      ]
     },
     "execution_count": 35,
     "metadata": {},
     "output_type": "execute_result"
    }
   ],
   "source": [
    "data['DISTRICT'].unique()\n",
    "#data['District_name'] = district_name\n",
    "#data.head(15)"
   ]
  },
  {
   "cell_type": "markdown",
   "metadata": {},
   "source": [
    "## Adding district name into data "
   ]
  },
  {
   "cell_type": "code",
   "execution_count": 34,
   "metadata": {},
   "outputs": [],
   "source": [
    "district_name=[]\n",
    "for i in data['DISTRICT']:\n",
    "    for j in dict_district:\n",
    "        if (i ==j):\n",
    "            district_name.append(dict_district[j])\n",
    "    "
   ]
  },
  {
   "cell_type": "code",
   "execution_count": 36,
   "metadata": {
    "scrolled": true
   },
   "outputs": [
    {
     "data": {
      "text/html": [
       "<div>\n",
       "<style scoped>\n",
       "    .dataframe tbody tr th:only-of-type {\n",
       "        vertical-align: middle;\n",
       "    }\n",
       "\n",
       "    .dataframe tbody tr th {\n",
       "        vertical-align: top;\n",
       "    }\n",
       "\n",
       "    .dataframe thead th {\n",
       "        text-align: right;\n",
       "    }\n",
       "</style>\n",
       "<table border=\"1\" class=\"dataframe\">\n",
       "  <thead>\n",
       "    <tr style=\"text-align: right;\">\n",
       "      <th></th>\n",
       "      <th>INCIDENT_NUMBER</th>\n",
       "      <th>OFFENSE_CODE</th>\n",
       "      <th>OFFENSE_CODE_GROUP</th>\n",
       "      <th>OFFENSE_DESCRIPTION</th>\n",
       "      <th>DISTRICT</th>\n",
       "      <th>REPORTING_AREA</th>\n",
       "      <th>SHOOTING</th>\n",
       "      <th>OCCURRED_ON_DATE</th>\n",
       "      <th>YEAR</th>\n",
       "      <th>MONTH</th>\n",
       "      <th>DAY_OF_WEEK</th>\n",
       "      <th>HOUR</th>\n",
       "      <th>UCR_PART</th>\n",
       "      <th>STREET</th>\n",
       "      <th>Lat</th>\n",
       "      <th>Long</th>\n",
       "      <th>Location</th>\n",
       "      <th>District_name</th>\n",
       "    </tr>\n",
       "  </thead>\n",
       "  <tbody>\n",
       "    <tr>\n",
       "      <td>0</td>\n",
       "      <td>I192068249</td>\n",
       "      <td>2647</td>\n",
       "      <td>Other</td>\n",
       "      <td>THREATS TO DO BODILY HARM</td>\n",
       "      <td>B2</td>\n",
       "      <td>280</td>\n",
       "      <td>NaN</td>\n",
       "      <td>2015-08-28 10:20:00</td>\n",
       "      <td>2015</td>\n",
       "      <td>8</td>\n",
       "      <td>Friday</td>\n",
       "      <td>10</td>\n",
       "      <td>Part Two</td>\n",
       "      <td>WASHINGTON ST</td>\n",
       "      <td>42.330119</td>\n",
       "      <td>-71.084251</td>\n",
       "      <td>(42.33011862, -71.08425106)</td>\n",
       "      <td>BOXBURY</td>\n",
       "    </tr>\n",
       "    <tr>\n",
       "      <td>1</td>\n",
       "      <td>I192061894</td>\n",
       "      <td>1106</td>\n",
       "      <td>Confidence Games</td>\n",
       "      <td>FRAUD - CREDIT CARD / ATM FRAUD</td>\n",
       "      <td>C11</td>\n",
       "      <td>356</td>\n",
       "      <td>NaN</td>\n",
       "      <td>2015-08-20 00:00:00</td>\n",
       "      <td>2015</td>\n",
       "      <td>8</td>\n",
       "      <td>Thursday</td>\n",
       "      <td>0</td>\n",
       "      <td>Part Two</td>\n",
       "      <td>CHARLES ST</td>\n",
       "      <td>42.300605</td>\n",
       "      <td>-71.061268</td>\n",
       "      <td>(42.30060543, -71.06126785)</td>\n",
       "      <td>DORCHESTER</td>\n",
       "    </tr>\n",
       "    <tr>\n",
       "      <td>2</td>\n",
       "      <td>I192038828</td>\n",
       "      <td>1107</td>\n",
       "      <td>Fraud</td>\n",
       "      <td>FRAUD - IMPERSONATION</td>\n",
       "      <td>A1</td>\n",
       "      <td>172</td>\n",
       "      <td>NaN</td>\n",
       "      <td>2015-11-02 12:24:00</td>\n",
       "      <td>2015</td>\n",
       "      <td>11</td>\n",
       "      <td>Monday</td>\n",
       "      <td>12</td>\n",
       "      <td>Part Two</td>\n",
       "      <td>ALBANY ST</td>\n",
       "      <td>42.334288</td>\n",
       "      <td>-71.072395</td>\n",
       "      <td>(42.33428841, -71.07239518)</td>\n",
       "      <td>DOWNTOWN</td>\n",
       "    </tr>\n",
       "    <tr>\n",
       "      <td>3</td>\n",
       "      <td>I192008877</td>\n",
       "      <td>1107</td>\n",
       "      <td>Fraud</td>\n",
       "      <td>FRAUD - IMPERSONATION</td>\n",
       "      <td>E18</td>\n",
       "      <td>525</td>\n",
       "      <td>NaN</td>\n",
       "      <td>2015-07-31 10:00:00</td>\n",
       "      <td>2015</td>\n",
       "      <td>7</td>\n",
       "      <td>Friday</td>\n",
       "      <td>10</td>\n",
       "      <td>Part Two</td>\n",
       "      <td>WINGATE RD</td>\n",
       "      <td>42.237009</td>\n",
       "      <td>-71.129566</td>\n",
       "      <td>(42.23700950, -71.12956606)</td>\n",
       "      <td>HYDE PARK</td>\n",
       "    </tr>\n",
       "    <tr>\n",
       "      <td>4</td>\n",
       "      <td>I182090828</td>\n",
       "      <td>1102</td>\n",
       "      <td>Fraud</td>\n",
       "      <td>FRAUD - FALSE PRETENSE / SCHEME</td>\n",
       "      <td>D4</td>\n",
       "      <td>159</td>\n",
       "      <td>NaN</td>\n",
       "      <td>2015-12-01 12:00:00</td>\n",
       "      <td>2015</td>\n",
       "      <td>12</td>\n",
       "      <td>Tuesday</td>\n",
       "      <td>12</td>\n",
       "      <td>Part Two</td>\n",
       "      <td>UPTON ST</td>\n",
       "      <td>42.342432</td>\n",
       "      <td>-71.072258</td>\n",
       "      <td>(42.34243222, -71.07225766)</td>\n",
       "      <td>SOUTH END</td>\n",
       "    </tr>\n",
       "  </tbody>\n",
       "</table>\n",
       "</div>"
      ],
      "text/plain": [
       "  INCIDENT_NUMBER  OFFENSE_CODE OFFENSE_CODE_GROUP  \\\n",
       "0      I192068249          2647              Other   \n",
       "1      I192061894          1106   Confidence Games   \n",
       "2      I192038828          1107              Fraud   \n",
       "3      I192008877          1107              Fraud   \n",
       "4      I182090828          1102              Fraud   \n",
       "\n",
       "               OFFENSE_DESCRIPTION DISTRICT REPORTING_AREA SHOOTING  \\\n",
       "0        THREATS TO DO BODILY HARM       B2            280      NaN   \n",
       "1  FRAUD - CREDIT CARD / ATM FRAUD      C11            356      NaN   \n",
       "2            FRAUD - IMPERSONATION       A1            172      NaN   \n",
       "3            FRAUD - IMPERSONATION      E18            525      NaN   \n",
       "4  FRAUD - FALSE PRETENSE / SCHEME       D4            159      NaN   \n",
       "\n",
       "      OCCURRED_ON_DATE  YEAR  MONTH DAY_OF_WEEK  HOUR  UCR_PART  \\\n",
       "0  2015-08-28 10:20:00  2015      8      Friday    10  Part Two   \n",
       "1  2015-08-20 00:00:00  2015      8    Thursday     0  Part Two   \n",
       "2  2015-11-02 12:24:00  2015     11      Monday    12  Part Two   \n",
       "3  2015-07-31 10:00:00  2015      7      Friday    10  Part Two   \n",
       "4  2015-12-01 12:00:00  2015     12     Tuesday    12  Part Two   \n",
       "\n",
       "          STREET        Lat       Long                     Location  \\\n",
       "0  WASHINGTON ST  42.330119 -71.084251  (42.33011862, -71.08425106)   \n",
       "1     CHARLES ST  42.300605 -71.061268  (42.30060543, -71.06126785)   \n",
       "2      ALBANY ST  42.334288 -71.072395  (42.33428841, -71.07239518)   \n",
       "3     WINGATE RD  42.237009 -71.129566  (42.23700950, -71.12956606)   \n",
       "4       UPTON ST  42.342432 -71.072258  (42.34243222, -71.07225766)   \n",
       "\n",
       "  District_name  \n",
       "0       BOXBURY  \n",
       "1    DORCHESTER  \n",
       "2      DOWNTOWN  \n",
       "3     HYDE PARK  \n",
       "4     SOUTH END  "
      ]
     },
     "execution_count": 36,
     "metadata": {},
     "output_type": "execute_result"
    }
   ],
   "source": [
    "data['District_name'] = district_name\n",
    "data.head()"
   ]
  },
  {
   "cell_type": "code",
   "execution_count": 37,
   "metadata": {},
   "outputs": [
    {
     "data": {
      "image/png": "[encoded data removed]",
      "text/plain": [
       "<Figure size 1800x720 with 2 Axes>"
      ]
     },
     "metadata": {
      "needs_background": "light"
     },
     "output_type": "display_data"
    }
   ],
   "source": [
    "msno.matrix(data)\n",
    "plt.show()"
   ]
  },
  {
   "cell_type": "markdown",
   "metadata": {},
   "source": [
    "Since most of the cell from shooting columns are nan, this column will be deleted."
   ]
  },
  {
   "cell_type": "markdown",
   "metadata": {},
   "source": [
    "## Dropping shooting column"
   ]
  },
  {
   "cell_type": "code",
   "execution_count": 38,
   "metadata": {},
   "outputs": [
    {
     "data": {
      "text/html": [
       "<div>\n",
       "<style scoped>\n",
       "    .dataframe tbody tr th:only-of-type {\n",
       "        vertical-align: middle;\n",
       "    }\n",
       "\n",
       "    .dataframe tbody tr th {\n",
       "        vertical-align: top;\n",
       "    }\n",
       "\n",
       "    .dataframe thead th {\n",
       "        text-align: right;\n",
       "    }\n",
       "</style>\n",
       "<table border=\"1\" class=\"dataframe\">\n",
       "  <thead>\n",
       "    <tr style=\"text-align: right;\">\n",
       "      <th></th>\n",
       "      <th>INCIDENT_NUMBER</th>\n",
       "      <th>OFFENSE_CODE</th>\n",
       "      <th>OFFENSE_CODE_GROUP</th>\n",
       "      <th>OFFENSE_DESCRIPTION</th>\n",
       "      <th>DISTRICT</th>\n",
       "      <th>REPORTING_AREA</th>\n",
       "      <th>OCCURRED_ON_DATE</th>\n",
       "      <th>YEAR</th>\n",
       "      <th>MONTH</th>\n",
       "      <th>DAY_OF_WEEK</th>\n",
       "      <th>HOUR</th>\n",
       "      <th>UCR_PART</th>\n",
       "      <th>STREET</th>\n",
       "      <th>Lat</th>\n",
       "      <th>Long</th>\n",
       "      <th>Location</th>\n",
       "      <th>District_name</th>\n",
       "    </tr>\n",
       "  </thead>\n",
       "  <tbody>\n",
       "    <tr>\n",
       "      <td>0</td>\n",
       "      <td>I192068249</td>\n",
       "      <td>2647</td>\n",
       "      <td>Other</td>\n",
       "      <td>THREATS TO DO BODILY HARM</td>\n",
       "      <td>B2</td>\n",
       "      <td>280</td>\n",
       "      <td>2015-08-28 10:20:00</td>\n",
       "      <td>2015</td>\n",
       "      <td>8</td>\n",
       "      <td>Friday</td>\n",
       "      <td>10</td>\n",
       "      <td>Part Two</td>\n",
       "      <td>WASHINGTON ST</td>\n",
       "      <td>42.330119</td>\n",
       "      <td>-71.084251</td>\n",
       "      <td>(42.33011862, -71.08425106)</td>\n",
       "      <td>BOXBURY</td>\n",
       "    </tr>\n",
       "    <tr>\n",
       "      <td>1</td>\n",
       "      <td>I192061894</td>\n",
       "      <td>1106</td>\n",
       "      <td>Confidence Games</td>\n",
       "      <td>FRAUD - CREDIT CARD / ATM FRAUD</td>\n",
       "      <td>C11</td>\n",
       "      <td>356</td>\n",
       "      <td>2015-08-20 00:00:00</td>\n",
       "      <td>2015</td>\n",
       "      <td>8</td>\n",
       "      <td>Thursday</td>\n",
       "      <td>0</td>\n",
       "      <td>Part Two</td>\n",
       "      <td>CHARLES ST</td>\n",
       "      <td>42.300605</td>\n",
       "      <td>-71.061268</td>\n",
       "      <td>(42.30060543, -71.06126785)</td>\n",
       "      <td>DORCHESTER</td>\n",
       "    </tr>\n",
       "    <tr>\n",
       "      <td>2</td>\n",
       "      <td>I192038828</td>\n",
       "      <td>1107</td>\n",
       "      <td>Fraud</td>\n",
       "      <td>FRAUD - IMPERSONATION</td>\n",
       "      <td>A1</td>\n",
       "      <td>172</td>\n",
       "      <td>2015-11-02 12:24:00</td>\n",
       "      <td>2015</td>\n",
       "      <td>11</td>\n",
       "      <td>Monday</td>\n",
       "      <td>12</td>\n",
       "      <td>Part Two</td>\n",
       "      <td>ALBANY ST</td>\n",
       "      <td>42.334288</td>\n",
       "      <td>-71.072395</td>\n",
       "      <td>(42.33428841, -71.07239518)</td>\n",
       "      <td>DOWNTOWN</td>\n",
       "    </tr>\n",
       "    <tr>\n",
       "      <td>3</td>\n",
       "      <td>I192008877</td>\n",
       "      <td>1107</td>\n",
       "      <td>Fraud</td>\n",
       "      <td>FRAUD - IMPERSONATION</td>\n",
       "      <td>E18</td>\n",
       "      <td>525</td>\n",
       "      <td>2015-07-31 10:00:00</td>\n",
       "      <td>2015</td>\n",
       "      <td>7</td>\n",
       "      <td>Friday</td>\n",
       "      <td>10</td>\n",
       "      <td>Part Two</td>\n",
       "      <td>WINGATE RD</td>\n",
       "      <td>42.237009</td>\n",
       "      <td>-71.129566</td>\n",
       "      <td>(42.23700950, -71.12956606)</td>\n",
       "      <td>HYDE PARK</td>\n",
       "    </tr>\n",
       "    <tr>\n",
       "      <td>4</td>\n",
       "      <td>I182090828</td>\n",
       "      <td>1102</td>\n",
       "      <td>Fraud</td>\n",
       "      <td>FRAUD - FALSE PRETENSE / SCHEME</td>\n",
       "      <td>D4</td>\n",
       "      <td>159</td>\n",
       "      <td>2015-12-01 12:00:00</td>\n",
       "      <td>2015</td>\n",
       "      <td>12</td>\n",
       "      <td>Tuesday</td>\n",
       "      <td>12</td>\n",
       "      <td>Part Two</td>\n",
       "      <td>UPTON ST</td>\n",
       "      <td>42.342432</td>\n",
       "      <td>-71.072258</td>\n",
       "      <td>(42.34243222, -71.07225766)</td>\n",
       "      <td>SOUTH END</td>\n",
       "    </tr>\n",
       "  </tbody>\n",
       "</table>\n",
       "</div>"
      ],
      "text/plain": [
       "  INCIDENT_NUMBER  OFFENSE_CODE OFFENSE_CODE_GROUP  \\\n",
       "0      I192068249          2647              Other   \n",
       "1      I192061894          1106   Confidence Games   \n",
       "2      I192038828          1107              Fraud   \n",
       "3      I192008877          1107              Fraud   \n",
       "4      I182090828          1102              Fraud   \n",
       "\n",
       "               OFFENSE_DESCRIPTION DISTRICT REPORTING_AREA  \\\n",
       "0        THREATS TO DO BODILY HARM       B2            280   \n",
       "1  FRAUD - CREDIT CARD / ATM FRAUD      C11            356   \n",
       "2            FRAUD - IMPERSONATION       A1            172   \n",
       "3            FRAUD - IMPERSONATION      E18            525   \n",
       "4  FRAUD - FALSE PRETENSE / SCHEME       D4            159   \n",
       "\n",
       "      OCCURRED_ON_DATE  YEAR  MONTH DAY_OF_WEEK  HOUR  UCR_PART  \\\n",
       "0  2015-08-28 10:20:00  2015      8      Friday    10  Part Two   \n",
       "1  2015-08-20 00:00:00  2015      8    Thursday     0  Part Two   \n",
       "2  2015-11-02 12:24:00  2015     11      Monday    12  Part Two   \n",
       "3  2015-07-31 10:00:00  2015      7      Friday    10  Part Two   \n",
       "4  2015-12-01 12:00:00  2015     12     Tuesday    12  Part Two   \n",
       "\n",
       "          STREET        Lat       Long                     Location  \\\n",
       "0  WASHINGTON ST  42.330119 -71.084251  (42.33011862, -71.08425106)   \n",
       "1     CHARLES ST  42.300605 -71.061268  (42.30060543, -71.06126785)   \n",
       "2      ALBANY ST  42.334288 -71.072395  (42.33428841, -71.07239518)   \n",
       "3     WINGATE RD  42.237009 -71.129566  (42.23700950, -71.12956606)   \n",
       "4       UPTON ST  42.342432 -71.072258  (42.34243222, -71.07225766)   \n",
       "\n",
       "  District_name  \n",
       "0       BOXBURY  \n",
       "1    DORCHESTER  \n",
       "2      DOWNTOWN  \n",
       "3     HYDE PARK  \n",
       "4     SOUTH END  "
      ]
     },
     "execution_count": 38,
     "metadata": {},
     "output_type": "execute_result"
    }
   ],
   "source": [
    "data = data.drop(columns='SHOOTING')\n",
    "data.head()"
   ]
  },
  {
   "cell_type": "markdown",
   "metadata": {},
   "source": [
    "## Transferring OCCURRED_ON_DATE to more useable format"
   ]
  },
  {
   "cell_type": "code",
   "execution_count": 42,
   "metadata": {},
   "outputs": [
    {
     "data": {
      "text/html": [
       "<div>\n",
       "<style scoped>\n",
       "    .dataframe tbody tr th:only-of-type {\n",
       "        vertical-align: middle;\n",
       "    }\n",
       "\n",
       "    .dataframe tbody tr th {\n",
       "        vertical-align: top;\n",
       "    }\n",
       "\n",
       "    .dataframe thead th {\n",
       "        text-align: right;\n",
       "    }\n",
       "</style>\n",
       "<table border=\"1\" class=\"dataframe\">\n",
       "  <thead>\n",
       "    <tr style=\"text-align: right;\">\n",
       "      <th></th>\n",
       "      <th>INCIDENT_NUMBER</th>\n",
       "      <th>OFFENSE_CODE</th>\n",
       "      <th>OFFENSE_CODE_GROUP</th>\n",
       "      <th>OFFENSE_DESCRIPTION</th>\n",
       "      <th>DISTRICT</th>\n",
       "      <th>REPORTING_AREA</th>\n",
       "      <th>OCCURRED_ON_DATE</th>\n",
       "      <th>YEAR</th>\n",
       "      <th>MONTH</th>\n",
       "      <th>DAY_OF_WEEK</th>\n",
       "      <th>HOUR</th>\n",
       "      <th>UCR_PART</th>\n",
       "      <th>STREET</th>\n",
       "      <th>Lat</th>\n",
       "      <th>Long</th>\n",
       "      <th>Location</th>\n",
       "      <th>District_name</th>\n",
       "    </tr>\n",
       "  </thead>\n",
       "  <tbody>\n",
       "    <tr>\n",
       "      <td>0</td>\n",
       "      <td>I192068249</td>\n",
       "      <td>2647</td>\n",
       "      <td>Other</td>\n",
       "      <td>THREATS TO DO BODILY HARM</td>\n",
       "      <td>B2</td>\n",
       "      <td>280</td>\n",
       "      <td>2015-08-28 10:20:00</td>\n",
       "      <td>2015</td>\n",
       "      <td>8</td>\n",
       "      <td>Friday</td>\n",
       "      <td>10</td>\n",
       "      <td>Part Two</td>\n",
       "      <td>WASHINGTON ST</td>\n",
       "      <td>42.330119</td>\n",
       "      <td>-71.084251</td>\n",
       "      <td>(42.33011862, -71.08425106)</td>\n",
       "      <td>BOXBURY</td>\n",
       "    </tr>\n",
       "    <tr>\n",
       "      <td>1</td>\n",
       "      <td>I192061894</td>\n",
       "      <td>1106</td>\n",
       "      <td>Confidence Games</td>\n",
       "      <td>FRAUD - CREDIT CARD / ATM FRAUD</td>\n",
       "      <td>C11</td>\n",
       "      <td>356</td>\n",
       "      <td>2015-08-20 00:00:00</td>\n",
       "      <td>2015</td>\n",
       "      <td>8</td>\n",
       "      <td>Thursday</td>\n",
       "      <td>0</td>\n",
       "      <td>Part Two</td>\n",
       "      <td>CHARLES ST</td>\n",
       "      <td>42.300605</td>\n",
       "      <td>-71.061268</td>\n",
       "      <td>(42.30060543, -71.06126785)</td>\n",
       "      <td>DORCHESTER</td>\n",
       "    </tr>\n",
       "    <tr>\n",
       "      <td>2</td>\n",
       "      <td>I192038828</td>\n",
       "      <td>1107</td>\n",
       "      <td>Fraud</td>\n",
       "      <td>FRAUD - IMPERSONATION</td>\n",
       "      <td>A1</td>\n",
       "      <td>172</td>\n",
       "      <td>2015-11-02 12:24:00</td>\n",
       "      <td>2015</td>\n",
       "      <td>11</td>\n",
       "      <td>Monday</td>\n",
       "      <td>12</td>\n",
       "      <td>Part Two</td>\n",
       "      <td>ALBANY ST</td>\n",
       "      <td>42.334288</td>\n",
       "      <td>-71.072395</td>\n",
       "      <td>(42.33428841, -71.07239518)</td>\n",
       "      <td>DOWNTOWN</td>\n",
       "    </tr>\n",
       "    <tr>\n",
       "      <td>3</td>\n",
       "      <td>I192008877</td>\n",
       "      <td>1107</td>\n",
       "      <td>Fraud</td>\n",
       "      <td>FRAUD - IMPERSONATION</td>\n",
       "      <td>E18</td>\n",
       "      <td>525</td>\n",
       "      <td>2015-07-31 10:00:00</td>\n",
       "      <td>2015</td>\n",
       "      <td>7</td>\n",
       "      <td>Friday</td>\n",
       "      <td>10</td>\n",
       "      <td>Part Two</td>\n",
       "      <td>WINGATE RD</td>\n",
       "      <td>42.237009</td>\n",
       "      <td>-71.129566</td>\n",
       "      <td>(42.23700950, -71.12956606)</td>\n",
       "      <td>HYDE PARK</td>\n",
       "    </tr>\n",
       "    <tr>\n",
       "      <td>4</td>\n",
       "      <td>I182090828</td>\n",
       "      <td>1102</td>\n",
       "      <td>Fraud</td>\n",
       "      <td>FRAUD - FALSE PRETENSE / SCHEME</td>\n",
       "      <td>D4</td>\n",
       "      <td>159</td>\n",
       "      <td>2015-12-01 12:00:00</td>\n",
       "      <td>2015</td>\n",
       "      <td>12</td>\n",
       "      <td>Tuesday</td>\n",
       "      <td>12</td>\n",
       "      <td>Part Two</td>\n",
       "      <td>UPTON ST</td>\n",
       "      <td>42.342432</td>\n",
       "      <td>-71.072258</td>\n",
       "      <td>(42.34243222, -71.07225766)</td>\n",
       "      <td>SOUTH END</td>\n",
       "    </tr>\n",
       "  </tbody>\n",
       "</table>\n",
       "</div>"
      ],
      "text/plain": [
       "  INCIDENT_NUMBER  OFFENSE_CODE OFFENSE_CODE_GROUP  \\\n",
       "0      I192068249          2647              Other   \n",
       "1      I192061894          1106   Confidence Games   \n",
       "2      I192038828          1107              Fraud   \n",
       "3      I192008877          1107              Fraud   \n",
       "4      I182090828          1102              Fraud   \n",
       "\n",
       "               OFFENSE_DESCRIPTION DISTRICT REPORTING_AREA  \\\n",
       "0        THREATS TO DO BODILY HARM       B2            280   \n",
       "1  FRAUD - CREDIT CARD / ATM FRAUD      C11            356   \n",
       "2            FRAUD - IMPERSONATION       A1            172   \n",
       "3            FRAUD - IMPERSONATION      E18            525   \n",
       "4  FRAUD - FALSE PRETENSE / SCHEME       D4            159   \n",
       "\n",
       "     OCCURRED_ON_DATE  YEAR  MONTH DAY_OF_WEEK  HOUR  UCR_PART         STREET  \\\n",
       "0 2015-08-28 10:20:00  2015      8      Friday    10  Part Two  WASHINGTON ST   \n",
       "1 2015-08-20 00:00:00  2015      8    Thursday     0  Part Two     CHARLES ST   \n",
       "2 2015-11-02 12:24:00  2015     11      Monday    12  Part Two      ALBANY ST   \n",
       "3 2015-07-31 10:00:00  2015      7      Friday    10  Part Two     WINGATE RD   \n",
       "4 2015-12-01 12:00:00  2015     12     Tuesday    12  Part Two       UPTON ST   \n",
       "\n",
       "         Lat       Long                     Location District_name  \n",
       "0  42.330119 -71.084251  (42.33011862, -71.08425106)       BOXBURY  \n",
       "1  42.300605 -71.061268  (42.30060543, -71.06126785)    DORCHESTER  \n",
       "2  42.334288 -71.072395  (42.33428841, -71.07239518)      DOWNTOWN  \n",
       "3  42.237009 -71.129566  (42.23700950, -71.12956606)     HYDE PARK  \n",
       "4  42.342432 -71.072258  (42.34243222, -71.07225766)     SOUTH END  "
      ]
     },
     "execution_count": 42,
     "metadata": {},
     "output_type": "execute_result"
    }
   ],
   "source": [
    "data['OCCURRED_ON_DATE'] = pd.to_datetime(data['OCCURRED_ON_DATE'])\n",
    "data[\"DAY_OF_WEEK\"] = pd.Categorical(data[\"DAY_OF_WEEK\"], \n",
    "              categories=['Monday','Tuesday','Wednesday','Thursday','Friday','Saturday','Sunday'],\n",
    "              ordered=True)\n",
    "data.head()"
   ]
  },
  {
   "cell_type": "code",
   "execution_count": null,
   "metadata": {},
   "outputs": [],
   "source": [
    "data.columns"
   ]
  },
  {
   "cell_type": "markdown",
   "metadata": {},
   "source": [
    "## Visualizing crime count by District and different Categeory"
   ]
  },
  {
   "cell_type": "code",
   "execution_count": null,
   "metadata": {},
   "outputs": [],
   "source": [
    "dis = data.groupby(by=[\"DISTRICT\",\"OFFENSE_CODE_GROUP\"]).size()\n",
    "s = dis.to_frame()\n",
    "s = s.reset_index()\n",
    "s.columns = [\"District\",\"Crime_cat\",\"Crime Counts\"]\n",
    "ax = sns.barplot(x =\"District\", y = 'Crime Counts', data = s, hue = \"Crime_cat\" , dodge=False)\n",
    "plt.legend(title = 'Crime Categeory', bbox_to_anchor = (1, 1))"
   ]
  },
  {
   "cell_type": "code",
   "execution_count": null,
   "metadata": {},
   "outputs": [],
   "source": [
    "data['DISTRICT'].unique()"
   ]
  },
  {
   "cell_type": "code",
   "execution_count": null,
   "metadata": {},
   "outputs": [],
   "source": [
    "CLIENT_ID = 'AQ4P5KPELSSWLOEVTEC0ET4FNEVSJJATZC1NUQ13YFMY11W1' # your Foursquare ID\n",
    "CLIENT_SECRET = 'BMGVJICF0ZI0OAXWYEQRAU3DD4S503UH3VEG0BCKAWKIOWMF' # your Foursquare Secret\n",
    "ACCESS_TOKEN = '1JVCUVC4B0EDL4JMLOSQ2INS35E3R2VYMEWS55U4UZW0FBMV' # your FourSquare Access Token\n",
    "VERSION = '20180605' # Foursquare API version\n",
    "LIMIT = 100 # A default Foursquare API limit value\n",
    "\n",
    "print('Your credentails:')\n",
    "print('CLIENT_ID: ' + CLIENT_ID)\n",
    "print('CLIENT_SECRET:' + CLIENT_SECRET)"
   ]
  },
  {
   "cell_type": "code",
   "execution_count": null,
   "metadata": {},
   "outputs": [],
   "source": [
    "def getNearbyVenues(names, latitudes, longitudes, radius=500):\n",
    "    \n",
    "    venues_list=[]\n",
    "    for name, lat, lng in zip(names, latitudes, longitudes):\n",
    "        print(name)\n",
    "            \n",
    "        # create the API request URL\n",
    "        url = 'https://api.foursquare.com/v2/venues/explore?&client_id={}&client_secret={}&v={}&ll={},{}&radius={}&limit={}'.format(\n",
    "            CLIENT_ID, \n",
    "            CLIENT_SECRET, \n",
    "            VERSION, \n",
    "            lat, \n",
    "            lng, \n",
    "            radius, \n",
    "            LIMIT)\n",
    "            \n",
    "        # make the GET request\n",
    "        results = requests.get(url).json()[\"response\"]['groups'][0]['items']\n",
    "        \n",
    "        # return only relevant information for each nearby venue\n",
    "        venues_list.append([(\n",
    "            name, \n",
    "            lat, \n",
    "            lng, \n",
    "            v['venue']['name'], \n",
    "            v['venue']['location']['lat'], \n",
    "            v['venue']['location']['lng'],  \n",
    "            v['venue']['categories'][0]['name']) for v in results])\n",
    "\n",
    "    nearby_venues = pd.DataFrame([item for venue_list in venues_list for item in venue_list])\n",
    "    nearby_venues.columns = ['Neighborhood', \n",
    "                  'Neighborhood Latitude', \n",
    "                  'Neighborhood Longitude', \n",
    "                  'Venue', \n",
    "                  'Venue Latitude', \n",
    "                  'Venue Longitude', \n",
    "                  'Venue Category']\n",
    "    \n",
    "    return(nearby_venues)"
   ]
  },
  {
   "cell_type": "code",
   "execution_count": null,
   "metadata": {},
   "outputs": [],
   "source": [
    "PostalCode = data['DISTRICT'].unique()\n",
    "latitude=[]\n",
    "longitude=[]\n",
    "for i in range (len(PostalCode)):\n",
    "    g = geocoder.arcgis('{}, Boston, MA'.format(PostalCode[i]))\n",
    "    lat_lng_coords = g.latlng\n",
    "    latitude.append(lat_lng_coords[0]) \n",
    "    longitude.append(lat_lng_coords[1]) "
   ]
  },
  {
   "cell_type": "code",
   "execution_count": null,
   "metadata": {},
   "outputs": [],
   "source": [
    "g = geocoder.arcgis('East Boston, Boston, MA')\n",
    "lat_lng_coords = g.latlng\n",
    "lat_lng_coords"
   ]
  },
  {
   "cell_type": "code",
   "execution_count": null,
   "metadata": {},
   "outputs": [],
   "source": [
    "g = geocoder.arcgis('ROXBURY, Boston, MA')\n",
    "lat_lng_coords = g.latlng\n",
    "lat_lng_coords\n",
    "latitude=lat_lng_coords[0]\n",
    "longitude=lat_lng_coords[1]"
   ]
  },
  {
   "cell_type": "code",
   "execution_count": null,
   "metadata": {},
   "outputs": [],
   "source": [
    "van_map = folium.Map(location=[latitude, longitude], zoom_start=13)\n",
    "folium.CircleMarker(\n",
    "        [latitude, longitude],\n",
    "        radius=3,\n",
    "        popup='ROXBURY, Boston, MA',\n",
    "        color='red',\n",
    "        fill=True,\n",
    "        fill_color='#3186cc',\n",
    "        fill_opacity=0.7,\n",
    "        parse_html=False).add_to(van_map) "
   ]
  },
  {
   "cell_type": "code",
   "execution_count": null,
   "metadata": {},
   "outputs": [],
   "source": [
    "van_map"
   ]
  },
  {
   "cell_type": "code",
   "execution_count": null,
   "metadata": {},
   "outputs": [],
   "source": [
    "import json\n",
    "import urllib.request\n",
    "url = 'https://data.boston.gov/api/3/action/datastore_search?resource_id=792031bf-b9bb-467c-b118-fe795befdf00'  \n",
    "fileobj = urllib.request.urlopen(url)\n",
    "response_dict = json.loads(fileobj.read())\n",
    "print(response_dict)"
   ]
  },
  {
   "cell_type": "code",
   "execution_count": null,
   "metadata": {},
   "outputs": [],
   "source": [
    "pd1 = pd.DataFrame()"
   ]
  },
  {
   "cell_type": "code",
   "execution_count": null,
   "metadata": {},
   "outputs": [],
   "source": []
  }
 ],
 "metadata": {
  "kernelspec": {
   "display_name": "Python 3",
   "language": "python",
   "name": "python3"
  },
  "language_info": {
   "codemirror_mode": {
    "name": "ipython",
    "version": 3
   },
   "file_extension": ".py",
   "mimetype": "text/x-python",
   "name": "python",
   "nbconvert_exporter": "python",
   "pygments_lexer": "ipython3",
   "version": "3.7.4"
  }
 },
 "nbformat": 4,
 "nbformat_minor": 5
}
